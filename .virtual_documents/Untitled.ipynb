#Spotify API Details Client ID: 48d803985b7b4d25906fdca1762df746 
#Client Secret: 67fd0e361f5242268efcb6464a515615 
#Redirect URIs: http://localhost:3000 
#Wylie's User ID: 1241492868

#Step 1: Construct Authorization URL

import webbrowser

client_id = '48d803985b7b4d25906fdca1762df746'  # Replace with your actual client ID
redirect_uri = 'http://localhost:3000'  # Make sure this matches your app settings in Spotify dashboard
scope = 'playlist-modify-public'  # This scope allows creating public playlists

auth_url = f"https://accounts.spotify.com/authorize?client_id={client_id}&response_type=code&redirect_uri={redirect_uri}&scope={scope}"

# Open the authorization URL in the default browser
webbrowser.open(auth_url)

#Step 2 install falsk if not already installed locally pip install flask. Then we need to Receive User Authorization:
from flask import Flask, request

app = Flask(__name__)

@app.route('/callback')
def callback():
    auth_code = request.args.get('code')
    return f"Authorization code: {auth_code}"

if __name__ == '__main__':
    app.run(port=8890)

#Step 3: Exchange Authorization Code for Access Token

import requests

client_secret = '67fd0e361f5242268efcb6464a515615'  

token_url = 'https://accounts.spotify.com/api/token'
data = {
    'grant_type': 'authorization_code',
    'code': auth_code,  # The code from the callback
    'redirect_uri': redirect_uri,
    'client_id': client_id,
    'client_secret': client_secret
}

response = requests.post(token_url, data=data)
access_token = response.json().get('access_token')




#Step 4: Make Authenticated API Requests

headers = {
    'Authorization': f'Bearer {access_token}',
    'Content-Type': 'application/json'
}

# Example: Get user's profile
profile_url = 'https://api.spotify.com/v1/me'
profile_response = requests.get(profile_url, headers=headers)
print(profile_response.json())

#Step 5: Construct a New Public Playlist
