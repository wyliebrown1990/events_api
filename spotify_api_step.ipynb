{
 "cells": [
  {
   "cell_type": "code",
   "execution_count": 3,
   "id": "c0ebe959-79a8-4d33-b3ff-408b28243c0a",
   "metadata": {},
   "outputs": [
    {
     "name": "stdout",
     "output_type": "stream",
     "text": [
      "Collecting flask\n",
      "  Using cached flask-3.0.3-py3-none-any.whl.metadata (3.2 kB)\n",
      "Collecting Werkzeug>=3.0.0 (from flask)\n",
      "  Using cached werkzeug-3.0.2-py3-none-any.whl.metadata (4.1 kB)\n",
      "Requirement already satisfied: Jinja2>=3.1.2 in /opt/anaconda3/envs/oldpython/lib/python3.10/site-packages (from flask) (3.1.3)\n",
      "Collecting itsdangerous>=2.1.2 (from flask)\n",
      "  Downloading itsdangerous-2.2.0-py3-none-any.whl.metadata (1.9 kB)\n",
      "Collecting click>=8.1.3 (from flask)\n",
      "  Using cached click-8.1.7-py3-none-any.whl.metadata (3.0 kB)\n",
      "Collecting blinker>=1.6.2 (from flask)\n",
      "  Using cached blinker-1.7.0-py3-none-any.whl.metadata (1.9 kB)\n",
      "Requirement already satisfied: MarkupSafe>=2.0 in /opt/anaconda3/envs/oldpython/lib/python3.10/site-packages (from Jinja2>=3.1.2->flask) (2.1.5)\n",
      "Using cached flask-3.0.3-py3-none-any.whl (101 kB)\n",
      "Using cached blinker-1.7.0-py3-none-any.whl (13 kB)\n",
      "Using cached click-8.1.7-py3-none-any.whl (97 kB)\n",
      "Downloading itsdangerous-2.2.0-py3-none-any.whl (16 kB)\n",
      "Using cached werkzeug-3.0.2-py3-none-any.whl (226 kB)\n",
      "Installing collected packages: Werkzeug, itsdangerous, click, blinker, flask\n",
      "Successfully installed Werkzeug-3.0.2 blinker-1.7.0 click-8.1.7 flask-3.0.3 itsdangerous-2.2.0\n",
      " * Serving Flask app '__main__'\n",
      " * Debug mode: on\n"
     ]
    },
    {
     "name": "stderr",
     "output_type": "stream",
     "text": [
      "\u001b[31m\u001b[1mWARNING: This is a development server. Do not use it in a production deployment. Use a production WSGI server instead.\u001b[0m\n",
      " * Running on http://127.0.0.1:8890\n",
      "\u001b[33mPress CTRL+C to quit\u001b[0m\n",
      " * Restarting with stat\n",
      "Traceback (most recent call last):\n",
      "  File \"/opt/anaconda3/envs/oldpython/lib/python3.10/runpy.py\", line 196, in _run_module_as_main\n",
      "    return _run_code(code, main_globals, None,\n",
      "  File \"/opt/anaconda3/envs/oldpython/lib/python3.10/runpy.py\", line 86, in _run_code\n",
      "    exec(code, run_globals)\n",
      "  File \"/opt/anaconda3/envs/oldpython/lib/python3.10/site-packages/ipykernel_launcher.py\", line 18, in <module>\n",
      "    app.launch_new_instance()\n",
      "  File \"/opt/anaconda3/envs/oldpython/lib/python3.10/site-packages/traitlets/config/application.py\", line 1074, in launch_instance\n",
      "    app.initialize(argv)\n",
      "  File \"/opt/anaconda3/envs/oldpython/lib/python3.10/site-packages/traitlets/config/application.py\", line 118, in inner\n",
      "    return method(app, *args, **kwargs)\n",
      "  File \"/opt/anaconda3/envs/oldpython/lib/python3.10/site-packages/ipykernel/kernelapp.py\", line 692, in initialize\n",
      "    self.init_sockets()\n",
      "  File \"/opt/anaconda3/envs/oldpython/lib/python3.10/site-packages/ipykernel/kernelapp.py\", line 331, in init_sockets\n",
      "    self.shell_port = self._bind_socket(self.shell_socket, self.shell_port)\n",
      "  File \"/opt/anaconda3/envs/oldpython/lib/python3.10/site-packages/ipykernel/kernelapp.py\", line 253, in _bind_socket\n",
      "    return self._try_bind_socket(s, port)\n",
      "  File \"/opt/anaconda3/envs/oldpython/lib/python3.10/site-packages/ipykernel/kernelapp.py\", line 229, in _try_bind_socket\n",
      "    s.bind(\"tcp://%s:%i\" % (self.ip, port))\n",
      "  File \"/opt/anaconda3/envs/oldpython/lib/python3.10/site-packages/zmq/sugar/socket.py\", line 311, in bind\n",
      "    super().bind(addr)\n",
      "  File \"_zmq.py\", line 898, in zmq.backend.cython._zmq.Socket.bind\n",
      "  File \"_zmq.py\", line 160, in zmq.backend.cython._zmq._check_rc\n",
      "zmq.error.ZMQError: Address already in use (addr='tcp://127.0.0.1:63985')\n"
     ]
    },
    {
     "ename": "SystemExit",
     "evalue": "1",
     "output_type": "error",
     "traceback": [
      "An exception has occurred, use %tb to see the full traceback.\n",
      "\u001b[0;31mSystemExit\u001b[0m\u001b[0;31m:\u001b[0m 1\n"
     ]
    },
    {
     "name": "stderr",
     "output_type": "stream",
     "text": [
      "/opt/anaconda3/envs/oldpython/lib/python3.10/site-packages/IPython/core/interactiveshell.py:3585: UserWarning: To exit: use 'exit', 'quit', or Ctrl-D.\n",
      "  warn(\"To exit: use 'exit', 'quit', or Ctrl-D.\", stacklevel=1)\n"
     ]
    }
   ],
   "source": [
    "#Spotify API Details Client ID: 48d803985b7b4d25906fdca1762df746 \n",
    "#Client Secret: 67fd0e361f5242268efcb6464a515615 \n",
    "#Redirect URIs: http://localhost:3000 \n",
    "#Wylie's User ID: 1241492868\n",
    "\n",
    "#Note: In order to get Sequence library from Connections to work I had to revert my enviro to an older version of Python:\n",
    "#In Terminal ran:\n",
    "#conda create -n oldpython python=3.10\n",
    "#conda activate oldpython\n",
    "#To deactivate an active enviro run:  conda deactivate\n",
    "\n",
    "#Step 1: Construct Authorization URL\n",
    "!pip install flask\n",
    "from collections.abc import Sequence\n",
    "import webbrowser\n",
    "\n",
    "client_id = '48d803985b7b4d25906fdca1762df746'  # Replace with your actual client ID\n",
    "redirect_uri = 'http://localhost:3000'  # Make sure this matches your app settings in Spotify dashboard\n",
    "scope = 'playlist-modify-public'  # This scope allows creating public playlists\n",
    "\n",
    "auth_url = f\"https://accounts.spotify.com/authorize?client_id={client_id}&response_type=code&redirect_uri={redirect_uri}&scope={scope}\"\n",
    "\n",
    "# Open the authorization URL in the default browser\n",
    "webbrowser.open(auth_url)\n",
    "\n",
    "#Step 2 install falsk if not already installed locally pip install flask. Then we need to Receive User Authorization:\n",
    "from flask import Flask, request\n",
    "\n",
    "app = Flask(__name__)\n",
    "\n",
    "@app.route('/callback')\n",
    "def callback():\n",
    "    auth_code = request.args.get('code')\n",
    "    return f\"Authorization code: {auth_code}\"\n",
    "\n",
    "if __name__ == '__main__':\n",
    "    app.run(host='127.0.0.1', port=8890, debug=True)"
   ]
  },
  {
   "cell_type": "code",
   "execution_count": null,
   "id": "d73bf463-4d17-4250-a1b8-25a3eeb7b16b",
   "metadata": {},
   "outputs": [],
   "source": [
    "#Step 3: Exchange Authorization Code for Access Token\n",
    "\n",
    "import requests\n",
    "\n",
    "client_secret = '67fd0e361f5242268efcb6464a515615'  \n",
    "\n",
    "token_url = 'https://accounts.spotify.com/api/token'\n",
    "data = {\n",
    "    'grant_type': 'authorization_code',\n",
    "    'code': auth_code,  # The code from the callback\n",
    "    'redirect_uri': redirect_uri,\n",
    "    'client_id': client_id,\n",
    "    'client_secret': client_secret\n",
    "}\n",
    "\n",
    "response = requests.post(token_url, data=data)\n",
    "access_token = response.json().get('access_token')\n",
    "\n",
    "#Step 4: Make Authenticated API Requests\n",
    "\n",
    "headers = {\n",
    "    'Authorization': f'Bearer {access_token}',\n",
    "    'Content-Type': 'application/json'\n",
    "}\n",
    "\n",
    "# Example: Get user's profile\n",
    "profile_url = 'https://api.spotify.com/v1/me'\n",
    "profile_response = requests.get(profile_url, headers=headers)\n",
    "print(profile_response.json())\n",
    "\n",
    "#Step 5: Construct a New Public Playlist"
   ]
  }
 ],
 "metadata": {
  "kernelspec": {
   "display_name": "Python 3 (ipykernel)",
   "language": "python",
   "name": "python3"
  },
  "language_info": {
   "codemirror_mode": {
    "name": "ipython",
    "version": 3
   },
   "file_extension": ".py",
   "mimetype": "text/x-python",
   "name": "python",
   "nbconvert_exporter": "python",
   "pygments_lexer": "ipython3",
   "version": "3.10.14"
  }
 },
 "nbformat": 4,
 "nbformat_minor": 5
}
