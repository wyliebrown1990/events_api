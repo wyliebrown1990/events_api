{
 "cells": [
  {
   "cell_type": "code",
   "execution_count": null,
   "id": "2fb406f4-213c-4ab6-8dfc-a26091e86be0",
   "metadata": {},
   "outputs": [],
   "source": [
    "#https://search.bandsintown.com/search?query=%7B%22entities%22%3A%20%5B%7B%22type%22%3A%20%22event%22%7D%5D%2C%20%22term%22%3A10001771%2C%20%22scopes%22%3A%5B%22venue_id%22%5D%7D\n",
    "\n",
    "#Decoded is something like this: https://search.bandsintown.com/search?query={\"entities\": [{\"type\": \"event\"}], \"term\":10001771, \"scopes\":[\"venue_id\"]}\n",
    "#https://artists.bandsintown.com/support/partner-search-api"
   ]
  }
 ],
 "metadata": {
  "kernelspec": {
   "display_name": "Python 3 (ipykernel)",
   "language": "python",
   "name": "python3"
  },
  "language_info": {
   "codemirror_mode": {
    "name": "ipython",
    "version": 3
   },
   "file_extension": ".py",
   "mimetype": "text/x-python",
   "name": "python",
   "nbconvert_exporter": "python",
   "pygments_lexer": "ipython3",
   "version": "3.10.14"
  }
 },
 "nbformat": 4,
 "nbformat_minor": 5
}
