{
 "cells": [
  {
   "cell_type": "code",
   "execution_count": 3,
   "id": "c0ebe959-79a8-4d33-b3ff-408b28243c0a",
   "metadata": {},
   "outputs": [
    {
     "name": "stdout",
     "output_type": "stream",
     "text": [
      " * Serving Flask app '__main__'\n",
      " * Debug mode: on\n"
     ]
    },
    {
     "name": "stderr",
     "output_type": "stream",
     "text": [
      "WARNING: This is a development server. Do not use it in a production deployment. Use a production WSGI server instead.\n",
      " * Running on http://127.0.0.1:8890\n",
      "Press CTRL+C to quit\n",
      " * Restarting with watchdog (fsevents)\n",
      "Traceback (most recent call last):\n",
      "  File \"/opt/anaconda3/lib/python3.11/site-packages/ipykernel_launcher.py\", line 8, in <module>\n",
      "    from pathlib import Path\n",
      "  File \"/opt/anaconda3/lib/python3.11/site-packages/pathlib.py\", line 10, in <module>\n",
      "    from collections import Sequence\n",
      "ImportError: cannot import name 'Sequence' from 'collections' (/opt/anaconda3/lib/python3.11/collections/__init__.py)\n"
     ]
    },
    {
     "ename": "SystemExit",
     "evalue": "1",
     "output_type": "error",
     "traceback": [
      "An exception has occurred, use %tb to see the full traceback.\n",
      "\u001b[0;31mSystemExit\u001b[0m\u001b[0;31m:\u001b[0m 1\n"
     ]
    }
   ],
   "source": [
    "#Spotify API Details Client ID: 48d803985b7b4d25906fdca1762df746 \n",
    "#Client Secret: 67fd0e361f5242268efcb6464a515615 \n",
    "#Redirect URIs: http://localhost:3000 \n",
    "#Wylie's User ID: 1241492868\n",
    "\n",
    "#Note: In order to get Sequence library from Connections to work I had to revert my enviro to an older version of Python:\n",
    "#In Terminal ran:\n",
    "#conda create -n oldpython python=3.10\n",
    "#conda activate oldpython\n",
    "\n",
    "#Step 1: Construct Authorization URL\n",
    "from collections.abc import Sequence\n",
    "import webbrowser\n",
    "\n",
    "client_id = '48d803985b7b4d25906fdca1762df746'  # Replace with your actual client ID\n",
    "redirect_uri = 'http://localhost:3000'  # Make sure this matches your app settings in Spotify dashboard\n",
    "scope = 'playlist-modify-public'  # This scope allows creating public playlists\n",
    "\n",
    "auth_url = f\"https://accounts.spotify.com/authorize?client_id={client_id}&response_type=code&redirect_uri={redirect_uri}&scope={scope}\"\n",
    "\n",
    "# Open the authorization URL in the default browser\n",
    "webbrowser.open(auth_url)\n",
    "\n",
    "#Step 2 install falsk if not already installed locally pip install flask. Then we need to Receive User Authorization:\n",
    "from flask import Flask, request\n",
    "\n",
    "app = Flask(__name__)\n",
    "\n",
    "@app.route('/callback')\n",
    "def callback():\n",
    "    auth_code = request.args.get('code')\n",
    "    return f\"Authorization code: {auth_code}\"\n",
    "\n",
    "if __name__ == '__main__':\n",
    "    app.run(host='127.0.0.1', port=8890, debug=True)"
   ]
  },
  {
   "cell_type": "code",
   "execution_count": null,
   "id": "d73bf463-4d17-4250-a1b8-25a3eeb7b16b",
   "metadata": {},
   "outputs": [],
   "source": [
    "#Step 3: Exchange Authorization Code for Access Token\n",
    "\n",
    "import requests\n",
    "\n",
    "client_secret = '67fd0e361f5242268efcb6464a515615'  \n",
    "\n",
    "token_url = 'https://accounts.spotify.com/api/token'\n",
    "data = {\n",
    "    'grant_type': 'authorization_code',\n",
    "    'code': auth_code,  # The code from the callback\n",
    "    'redirect_uri': redirect_uri,\n",
    "    'client_id': client_id,\n",
    "    'client_secret': client_secret\n",
    "}\n",
    "\n",
    "response = requests.post(token_url, data=data)\n",
    "access_token = response.json().get('access_token')\n",
    "\n",
    "#Step 4: Make Authenticated API Requests\n",
    "\n",
    "headers = {\n",
    "    'Authorization': f'Bearer {access_token}',\n",
    "    'Content-Type': 'application/json'\n",
    "}\n",
    "\n",
    "# Example: Get user's profile\n",
    "profile_url = 'https://api.spotify.com/v1/me'\n",
    "profile_response = requests.get(profile_url, headers=headers)\n",
    "print(profile_response.json())\n",
    "\n",
    "#Step 5: Construct a New Public Playlist"
   ]
  }
 ],
 "metadata": {
  "kernelspec": {
   "display_name": "Python 3 (ipykernel)",
   "language": "python",
   "name": "python3"
  },
  "language_info": {
   "codemirror_mode": {
    "name": "ipython",
    "version": 3
   },
   "file_extension": ".py",
   "mimetype": "text/x-python",
   "name": "python",
   "nbconvert_exporter": "python",
   "pygments_lexer": "ipython3",
   "version": "3.11.7"
  }
 },
 "nbformat": 4,
 "nbformat_minor": 5
}
